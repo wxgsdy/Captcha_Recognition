{
 "cells": [
  {
   "cell_type": "code",
   "execution_count": 1,
   "metadata": {},
   "outputs": [],
   "source": [
    "import cv2\n",
    "import os\n",
    "import sys"
   ]
  },
  {
   "cell_type": "code",
   "execution_count": 3,
   "metadata": {},
   "outputs": [
    {
     "name": "stdout",
     "output_type": "stream",
     "text": [
      " >> Creating image 9966 / 9966"
     ]
    }
   ],
   "source": [
    "# for i, element in enumerate(seq):\n",
    "origin = \"./captcha/number_low\"\n",
    "target = \"./captcha/number_low_median\"\n",
    "all_file = os.listdir(origin) # list\n",
    "\n",
    "if not os.path.exists(origin):\n",
    "    print(\"Origin floder not exists!\")\n",
    "\n",
    "if not os.path.exists(target):\n",
    "    print(\"Target floder not exists, making it...\")\n",
    "    os.mkdir(target)\n",
    "\n",
    "for i, filename in enumerate(all_file): \n",
    "    if filename.startswith('.'):\n",
    "        continue\n",
    "    imgName =  'captcha/number_low/' + filename\n",
    "    img = cv2.imread(imgName)\n",
    "    sigma = 7\n",
    "    imgBlur = cv2.medianBlur(img,sigma)\n",
    "    IMG_PATH = os.path.join(target, filename)\n",
    "    cv2.imwrite(IMG_PATH, imgBlur)\n",
    "    sys.stdout.write(\"\\r >> Creating image %d / %d\" %(i+1,len(all_file)))\n",
    "    sys.stdout.flush()"
   ]
  },
  {
   "cell_type": "code",
   "execution_count": null,
   "metadata": {},
   "outputs": [],
   "source": []
  }
 ],
 "metadata": {
  "kernelspec": {
   "display_name": "Python 3",
   "language": "python",
   "name": "python3"
  },
  "language_info": {
   "codemirror_mode": {
    "name": "ipython",
    "version": 3
   },
   "file_extension": ".py",
   "mimetype": "text/x-python",
   "name": "python",
   "nbconvert_exporter": "python",
   "pygments_lexer": "ipython3",
   "version": "3.6.4"
  }
 },
 "nbformat": 4,
 "nbformat_minor": 2
}
