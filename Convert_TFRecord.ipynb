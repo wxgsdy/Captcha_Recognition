{
 "cells": [
  {
   "cell_type": "markdown",
   "metadata": {},
   "source": [
    "### Imports"
   ]
  },
  {
   "cell_type": "code",
   "execution_count": 2,
   "metadata": {},
   "outputs": [],
   "source": [
    "import tensorflow as tf\n",
    "import os\n",
    "import random\n",
    "import sys\n",
    "from PIL import Image\n",
    "import numpy as np"
   ]
  },
  {
   "cell_type": "markdown",
   "metadata": {},
   "source": [
    "### Char set"
   ]
  },
  {
   "cell_type": "code",
   "execution_count": 3,
   "metadata": {},
   "outputs": [
    {
     "name": "stdout",
     "output_type": "stream",
     "text": [
      "['0', '1', '2', '3', '4', '5', '6', '7', '8', '9', 'a', 'b', 'c', 'd', 'e', 'f', 'g', 'h', 'i', 'j', 'k', 'l', 'm', 'n', 'o', 'p', 'q', 'r', 's', 't', 'u', 'v', 'w', 'x', 'y', 'z', 'A', 'B', 'C', 'D', 'E', 'F', 'G', 'H', 'I', 'J', 'K', 'L', 'M', 'N', 'O', 'P', 'Q', 'R', 'S', 'T', 'U', 'V', 'W', 'X', 'Y', 'Z']\n"
     ]
    }
   ],
   "source": [
    "number = ['0','1','2','3','4','5','6','7','8','9']\n",
    "alphabet = ['a', 'b', 'c', 'd', 'e', 'f', 'g', 'h', 'i', 'j', 'k', 'l', 'm', 'n', 'o', 'p', 'q', 'r', 's', 't', 'u', 'v', 'w', 'x', 'y', 'z']\n",
    "ALPHABET = ['A', 'B', 'C', 'D', 'E', 'F', 'G', 'H', 'I', 'J', 'K', 'L', 'M', 'N', 'O', 'P', 'Q', 'R', 'S', 'T', 'U', 'V', 'W', 'X', 'Y', 'Z']\n",
    "\n",
    "comb1 = number + alphabet\n",
    "comb2 = number + alphabet + ALPHABET\n",
    "\n",
    "simple = number + ['a','b','c','g']\n",
    "print(comb2)"
   ]
  },
  {
   "cell_type": "markdown",
   "metadata": {},
   "source": [
    "### Parameters "
   ]
  },
  {
   "cell_type": "code",
   "execution_count": 4,
   "metadata": {},
   "outputs": [],
   "source": [
    "_NUM_TEST = 500\n",
    "_RANDOM_SEED = 0\n",
    "DATASET_DIR = 'captcha/number_low_upper' ############################################################\n",
    "TFRECORD_DIR = 'captcha/'"
   ]
  },
  {
   "cell_type": "markdown",
   "metadata": {},
   "source": [
    "### Auxiliary functions"
   ]
  },
  {
   "cell_type": "code",
   "execution_count": 5,
   "metadata": {},
   "outputs": [],
   "source": [
    "def _dataset_exists(dataset_dir):\n",
    "    for split_name in ['trian','test']:\n",
    "        output_filename = os.path.join(dataset_dir,split_name + '.tfrecords')\n",
    "        if not tf.gfile.Exists(output_filename):\n",
    "            return False\n",
    "        return True\n",
    "    \n",
    "def _get_filenames_and_classes(dataset_dir):\n",
    "    photo_filenames = []\n",
    "    for filename in os.listdir(dataset_dir):\n",
    "        path = os.path.join(dataset_dir, filename)\n",
    "        photo_filenames.append(path)\n",
    "    return photo_filenames\n",
    "\n",
    "def int64_feature(values):\n",
    "    if not isinstance(values,(tuple,list)):\n",
    "        values = [values]\n",
    "    return tf.train.Feature(int64_list = tf.train.Int64List(value = values))\n",
    "\n",
    "def bytes_feature(values):\n",
    "    return tf.train.Feature(bytes_list = tf.train.BytesList(value = [values])) \n",
    "\n",
    "def image_to_tfexample(image_data, label0, label1, label2, label3):\n",
    "    # Abstract base class for protocal messages\n",
    "    return tf.train.Example(features = tf.train.Features(feature = {\n",
    "        'image': bytes_feature(image_data),\n",
    "        'label0': int64_feature(label0),\n",
    "        'label1': int64_feature(label1),\n",
    "        'label2': int64_feature(label2),\n",
    "        'label3': int64_feature(label3),\n",
    "    }))\n",
    "\n",
    "\n",
    "def _convert_dataset(split_name, filenames, dataset_dir):\n",
    "    assert split_name in ['train','test']\n",
    "    with tf.Session() as sess:\n",
    "        output_filename = os.path.join(TFRECORD_DIR, split_name + '.tfrecords')\n",
    "        with tf.python_io.TFRecordWriter(output_filename) as tfrecord_writer:\n",
    "            for i, filename in enumerate(filenames):\n",
    "                try:\n",
    "                    sys.stdout.write('\\r>> Converting image %d / %d' % (i+1, len(filenames)))\n",
    "                    sys.stdout.flush()\n",
    "                    \n",
    "                    # image\n",
    "                    image_data = Image.open(filename)                    \n",
    "                    image_data = image_data.resize((224,224))                    \n",
    "                    image_data = np.array(image_data.convert('L'))  # convert to grayscale                    \n",
    "                    image_data = image_data.tobytes()\n",
    "                    \n",
    "                    # label\n",
    "                    labels = filename.split('/')[-1][0:4]\n",
    "                    num_labels = []\n",
    "                    for j in range(4):\n",
    "                        num_labels.append(comb2.index(labels[j])) ####################################################3\n",
    "                    \n",
    "                    example = image_to_tfexample(image_data, num_labels[0],num_labels[1],num_labels[2],num_labels[3])\n",
    "                    tfrecord_writer.write(example.SerializeToString())\n",
    "\n",
    "                except IOError as e:\n",
    "                    print(\"Could not read:\", filename)\n",
    "                    print(\"Error:\",e)\n",
    "                    print(\"Skip it\\n\")\n",
    "    sys.stdout.write('\\n')\n",
    "    sys.stdout.flush()"
   ]
  },
  {
   "cell_type": "markdown",
   "metadata": {},
   "source": [
    "### Main"
   ]
  },
  {
   "cell_type": "code",
   "execution_count": 6,
   "metadata": {},
   "outputs": [
    {
     "name": "stdout",
     "output_type": "stream",
     "text": [
      ">> Converting image 9494 / 9494\n",
      ">> Converting image 500 / 500\n",
      "Finish generating TFRecord\n"
     ]
    }
   ],
   "source": [
    "if _dataset_exists(TFRECORD_DIR):\n",
    "    print(\"TFRecord file already exists!\")\n",
    "    \n",
    "else:\n",
    "    # get file names and split into train & test \n",
    "    photo_filenames = _get_filenames_and_classes(DATASET_DIR)    \n",
    "    random.seed(_RANDOM_SEED)\n",
    "    random.shuffle(photo_filenames)\n",
    "    training_filenames = photo_filenames[_NUM_TEST:]\n",
    "    testing_filenames = photo_filenames[:_NUM_TEST]\n",
    "\n",
    "    \n",
    "    _convert_dataset('train',training_filenames, DATASET_DIR)\n",
    "    _convert_dataset('test', testing_filenames, DATASET_DIR)\n",
    "    print(\"Finish generating TFRecord\")"
   ]
  },
  {
   "cell_type": "code",
   "execution_count": null,
   "metadata": {},
   "outputs": [],
   "source": []
  },
  {
   "cell_type": "code",
   "execution_count": null,
   "metadata": {},
   "outputs": [],
   "source": []
  }
 ],
 "metadata": {
  "kernelspec": {
   "display_name": "Python 3",
   "language": "python",
   "name": "python3"
  },
  "language_info": {
   "codemirror_mode": {
    "name": "ipython",
    "version": 3
   },
   "file_extension": ".py",
   "mimetype": "text/x-python",
   "name": "python",
   "nbconvert_exporter": "python",
   "pygments_lexer": "ipython3",
   "version": "3.6.4"
  }
 },
 "nbformat": 4,
 "nbformat_minor": 2
}
